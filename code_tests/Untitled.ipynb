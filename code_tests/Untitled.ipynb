{
 "cells": [
  {
   "cell_type": "code",
   "execution_count": 51,
   "metadata": {},
   "outputs": [],
   "source": [
    "import pandas as pd\n",
    "import numpy as np\n",
    "import matplotlib.pyplot as plt\n",
    "from keras.models import Sequential\n",
    "from keras.layers import LSTM, Dropout, Dense, Activation, GRU\n",
    "# from keras.callbacks import TensorBoard, ModelCheckpoint, ReduceLROnPlateau\n",
    "from keras.callbacks import EarlyStopping\n",
    "import datetime"
   ]
  },
  {
   "cell_type": "code",
   "execution_count": 29,
   "metadata": {},
   "outputs": [],
   "source": [
    "data = pd.read_csv('data.csv', index_col=0)"
   ]
  },
  {
   "cell_type": "code",
   "execution_count": 30,
   "metadata": {},
   "outputs": [
    {
     "data": {
      "text/html": [
       "<div>\n",
       "<style scoped>\n",
       "    .dataframe tbody tr th:only-of-type {\n",
       "        vertical-align: middle;\n",
       "    }\n",
       "\n",
       "    .dataframe tbody tr th {\n",
       "        vertical-align: top;\n",
       "    }\n",
       "\n",
       "    .dataframe thead th {\n",
       "        text-align: right;\n",
       "    }\n",
       "</style>\n",
       "<table border=\"1\" class=\"dataframe\">\n",
       "  <thead>\n",
       "    <tr style=\"text-align: right;\">\n",
       "      <th></th>\n",
       "      <th>open</th>\n",
       "      <th>high</th>\n",
       "      <th>low</th>\n",
       "      <th>close</th>\n",
       "      <th>volume</th>\n",
       "    </tr>\n",
       "  </thead>\n",
       "  <tbody>\n",
       "    <tr>\n",
       "      <th>20190826</th>\n",
       "      <td>43050</td>\n",
       "      <td>43800</td>\n",
       "      <td>42950</td>\n",
       "      <td>43600</td>\n",
       "      <td>7954949</td>\n",
       "    </tr>\n",
       "    <tr>\n",
       "      <th>20190823</th>\n",
       "      <td>43800</td>\n",
       "      <td>44200</td>\n",
       "      <td>43650</td>\n",
       "      <td>43950</td>\n",
       "      <td>5017381</td>\n",
       "    </tr>\n",
       "    <tr>\n",
       "      <th>20190822</th>\n",
       "      <td>44500</td>\n",
       "      <td>44700</td>\n",
       "      <td>43850</td>\n",
       "      <td>44050</td>\n",
       "      <td>8061177</td>\n",
       "    </tr>\n",
       "    <tr>\n",
       "      <th>20190821</th>\n",
       "      <td>44350</td>\n",
       "      <td>44800</td>\n",
       "      <td>44150</td>\n",
       "      <td>44500</td>\n",
       "      <td>6571717</td>\n",
       "    </tr>\n",
       "    <tr>\n",
       "      <th>20190820</th>\n",
       "      <td>43950</td>\n",
       "      <td>44600</td>\n",
       "      <td>43550</td>\n",
       "      <td>44450</td>\n",
       "      <td>8434205</td>\n",
       "    </tr>\n",
       "  </tbody>\n",
       "</table>\n",
       "</div>"
      ],
      "text/plain": [
       "           open   high    low  close   volume\n",
       "20190826  43050  43800  42950  43600  7954949\n",
       "20190823  43800  44200  43650  43950  5017381\n",
       "20190822  44500  44700  43850  44050  8061177\n",
       "20190821  44350  44800  44150  44500  6571717\n",
       "20190820  43950  44600  43550  44450  8434205"
      ]
     },
     "execution_count": 30,
     "metadata": {},
     "output_type": "execute_result"
    }
   ],
   "source": [
    "data.head()"
   ]
  },
  {
   "cell_type": "code",
   "execution_count": 31,
   "metadata": {},
   "outputs": [],
   "source": [
    "high_prices = data['high'].values\n",
    "low_prices = data['low'].values\n",
    "mid_prices = (high_prices + low_prices) / 2"
   ]
  },
  {
   "cell_type": "code",
   "execution_count": 32,
   "metadata": {},
   "outputs": [],
   "source": [
    "seq_len = 50\n",
    "sequence_length = seq_len + 1\n",
    "\n",
    "result = []\n",
    "for index in range(len(mid_prices) - sequence_length):\n",
    "    result.append(mid_prices[index: index + sequence_length])"
   ]
  },
  {
   "cell_type": "code",
   "execution_count": 36,
   "metadata": {},
   "outputs": [
    {
     "data": {
      "text/plain": [
       "((494, 50, 1), (55, 50, 1))"
      ]
     },
     "execution_count": 36,
     "metadata": {},
     "output_type": "execute_result"
    }
   ],
   "source": [
    "normalized_data = []\n",
    "for window in result:\n",
    "    normalized_window = [((float(p) / float(window[0])) - 1) for p in window]\n",
    "    normalized_data.append(normalized_window)\n",
    "\n",
    "result = np.array(normalized_data)\n",
    "\n",
    "# split train and test data\n",
    "row = int(round(result.shape[0] * 0.9))\n",
    "train = result[:row, :]\n",
    "np.random.shuffle(train)\n",
    "\n",
    "x_train = train[:, :-1]\n",
    "x_train = np.reshape(x_train, (x_train.shape[0], x_train.shape[1], 1))\n",
    "y_train = train[:, -1]\n",
    "\n",
    "x_test = result[row:, :-1]\n",
    "x_test = np.reshape(x_test, (x_test.shape[0], x_test.shape[1], 1))\n",
    "y_test = result[row:, -1]\n",
    "\n",
    "x_train.shape, x_test.shape"
   ]
  },
  {
   "cell_type": "code",
   "execution_count": 43,
   "metadata": {},
   "outputs": [
    {
     "name": "stdout",
     "output_type": "stream",
     "text": [
      "_________________________________________________________________\n",
      "Layer (type)                 Output Shape              Param #   \n",
      "=================================================================\n",
      "gru_3 (GRU)                  (None, 50, 50)            7800      \n",
      "_________________________________________________________________\n",
      "gru_4 (GRU)                  (None, 64)                22080     \n",
      "_________________________________________________________________\n",
      "dense_3 (Dense)              (None, 1)                 65        \n",
      "=================================================================\n",
      "Total params: 29,945\n",
      "Trainable params: 29,945\n",
      "Non-trainable params: 0\n",
      "_________________________________________________________________\n"
     ]
    }
   ],
   "source": [
    "model = Sequential()\n",
    "\n",
    "model.add(GRU(50, return_sequences=True, input_shape=(50, 1)))\n",
    "\n",
    "model.add(GRU(64, return_sequences=False))\n",
    "\n",
    "model.add(Dense(1, activation='linear'))\n",
    "\n",
    "model.compile(loss='mse', optimizer='adam')\n",
    "\n",
    "model.summary()"
   ]
  },
  {
   "cell_type": "code",
   "execution_count": 52,
   "metadata": {},
   "outputs": [],
   "source": [
    "early_stop = EarlyStopping(monitor='loss', patience=1, verbose=1)"
   ]
  },
  {
   "cell_type": "code",
   "execution_count": 45,
   "metadata": {},
   "outputs": [
    {
     "name": "stdout",
     "output_type": "stream",
     "text": [
      "Train on 494 samples, validate on 55 samples\n",
      "Epoch 1/20\n",
      "494/494 [==============================] - 12s 25ms/step - loss: 196.2867 - val_loss: 0.0524\n",
      "Epoch 2/20\n",
      "494/494 [==============================] - 6s 13ms/step - loss: 147.3582 - val_loss: 0.1005\n",
      "Epoch 3/20\n",
      "494/494 [==============================] - 6s 13ms/step - loss: 128.0391 - val_loss: 0.1696\n",
      "Epoch 4/20\n",
      "494/494 [==============================] - 7s 13ms/step - loss: 111.0199 - val_loss: 0.0829\n",
      "Epoch 5/20\n",
      "494/494 [==============================] - 6s 13ms/step - loss: 96.4701 - val_loss: 0.2475\n",
      "Epoch 6/20\n",
      "494/494 [==============================] - 7s 13ms/step - loss: 83.5277 - val_loss: 0.0395\n",
      "Epoch 7/20\n",
      "494/494 [==============================] - 7s 14ms/step - loss: 72.2532 - val_loss: 0.1040\n",
      "Epoch 8/20\n",
      "494/494 [==============================] - 6s 12ms/step - loss: 62.3561 - val_loss: 0.0694\n",
      "Epoch 9/20\n",
      "494/494 [==============================] - 6s 12ms/step - loss: 54.2595 - val_loss: 0.0832\n",
      "Epoch 10/20\n",
      "494/494 [==============================] - 6s 13ms/step - loss: 46.6654 - val_loss: 0.1097\n",
      "Epoch 11/20\n",
      "494/494 [==============================] - 6s 13ms/step - loss: 40.4906 - val_loss: 0.0974\n",
      "Epoch 12/20\n",
      "494/494 [==============================] - 7s 14ms/step - loss: 34.9452 - val_loss: 0.0701\n",
      "Epoch 13/20\n",
      "494/494 [==============================] - 7s 13ms/step - loss: 30.1116 - val_loss: 0.1204\n",
      "Epoch 14/20\n",
      "494/494 [==============================] - 6s 13ms/step - loss: 26.0778 - val_loss: 0.1027\n",
      "Epoch 15/20\n",
      "494/494 [==============================] - 7s 13ms/step - loss: 22.6592 - val_loss: 0.0905\n",
      "Epoch 16/20\n",
      "494/494 [==============================] - 6s 13ms/step - loss: 19.9044 - val_loss: 0.0859\n",
      "Epoch 17/20\n",
      "494/494 [==============================] - 6s 13ms/step - loss: 17.4972 - val_loss: 0.0462\n",
      "Epoch 18/20\n",
      "494/494 [==============================] - 6s 13ms/step - loss: 15.5268 - val_loss: 0.0504\n",
      "Epoch 19/20\n",
      "494/494 [==============================] - 6s 13ms/step - loss: 13.8706 - val_loss: 0.0453\n",
      "Epoch 20/20\n",
      "494/494 [==============================] - 6s 13ms/step - loss: 12.5135 - val_loss: 0.0435\n"
     ]
    },
    {
     "data": {
      "text/plain": [
       "<keras.callbacks.History at 0x1fb814420b8>"
      ]
     },
     "execution_count": 45,
     "metadata": {},
     "output_type": "execute_result"
    }
   ],
   "source": [
    "model.fit(x_train, y_train,\n",
    "          validation_data=(x_test, y_test),\n",
    "          batch_size=10,\n",
    "          epochs=20,\n",
    "          call_backs=[early_stop]\n",
    "         )"
   ]
  },
  {
   "cell_type": "code",
   "execution_count": 46,
   "metadata": {},
   "outputs": [
    {
     "data": {
      "image/png": "[encoded data removed]",
      "text/plain": [
       "<Figure size 1440x720 with 1 Axes>"
      ]
     },
     "metadata": {},
     "output_type": "display_data"
    }
   ],
   "source": [
    "pred = model.predict(x_test)\n",
    "\n",
    "fig = plt.figure(facecolor='white', figsize=(20, 10))\n",
    "ax = fig.add_subplot(111)\n",
    "ax.plot(y_test, label='True')\n",
    "ax.plot(pred, label='Prediction')\n",
    "ax.legend()\n",
    "plt.show()"
   ]
  },
  {
   "cell_type": "code",
   "execution_count": null,
   "metadata": {},
   "outputs": [],
   "source": []
  }
 ],
 "metadata": {
  "kernelspec": {
   "display_name": "Python 3",
   "language": "python",
   "name": "python3"
  },
  "language_info": {
   "codemirror_mode": {
    "name": "ipython",
    "version": 3
   },
   "file_extension": ".py",
   "mimetype": "text/x-python",
   "name": "python",
   "nbconvert_exporter": "python",
   "pygments_lexer": "ipython3",
   "version": "3.7.3"
  }
 },
 "nbformat": 4,
 "nbformat_minor": 4
}
